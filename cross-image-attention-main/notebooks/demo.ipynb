{
 "cells": [
  {
   "cell_type": "markdown",
   "id": "3a830b01-19b1-42d0-b2dc-f0389565a50e",
   "metadata": {
    "pycharm": {
     "name": "#%% md\n"
    }
   },
   "source": [
    "# Demo: Cross-Image Attention for Zero-Shot Appearance Transfer\n",
    "<b>Paper:</b> https://arxiv.org/abs/2311.03335  \n",
    "<b>Project Page:</b> https://garibida.github.io/cross-image-attention/   \n",
    "<b>Code:</b> https://github.com/garibida/cross-image-attention\n",
    "\n",
    "<a href=\"https://colab.research.google.com/github/garibida/cross-image-attention/blob/main/notebooks/demo.ipynb\"><img align=\"left\" title=\"Open in Colab\" src=\"https://colab.research.google.com/assets/colab-badge.svg\"></a>"
   ]
  },
  {
   "cell_type": "code",
   "execution_count": null,
   "id": "51a3ebcf-1e9c-44b9-852c-89debf2a6043",
   "metadata": {
    "pycharm": {
     "name": "#%%\n"
    }
   },
   "outputs": [],
   "source": [
    "#@title Step 1: Setup { display-mode: \"form\" }\n",
    "\n",
    "import os\n",
    "os.chdir('/content')\n",
    "CODE_DIR = 'cross-image-attention'\n",
    "\n",
    "!git clone https://github.com/garibida/cross-image-attention.git $CODE_DIR\n",
    "\n",
    "os.chdir(f'./{CODE_DIR}')\n",
    "\n",
    "!pip install -r environment/requirements.txt\n",
    "\n",
    "%load_ext autoreload\n",
    "%autoreload 2"
   ]
  },
  {
   "cell_type": "code",
   "execution_count": null,
   "id": "8641fd1b-6ba3-42dd-84e4-4124250ad709",
   "metadata": {
    "pycharm": {
     "name": "#%%\n"
    }
   },
   "outputs": [],
   "source": [
    "#@title Step 2: Import Packages { display-mode: \"form\" }\n",
    "import warnings\n",
    "warnings.simplefilter(action='ignore', category=FutureWarning)\n",
    "\n",
    "import numpy as np\n",
    "import torch\n",
    "from pathlib import Path\n",
    "from PIL import Image\n",
    "from IPython.display import display\n",
    "\n",
    "from config import RunConfig\n",
    "from run import run"
   ]
  },
  {
   "cell_type": "code",
   "execution_count": null,
   "id": "ed9b5570-7c1b-41b7-b0a1-33516472b595",
   "metadata": {
    "pycharm": {
     "name": "#%%\n"
    }
   },
   "outputs": [],
   "source": [
    "#@title Choose your images  { display-mode: \"form\" }\n",
    "app_image_path = \"/content/cross-image-attention/notebooks/inputs/input_zebra.png\"  # @param {type: \"string\"}\n",
    "struct_image_path = \"/content/cross-image-attention/notebooks/inputs/input_giraffe.png\"  # @param {type: \"string\"}\n",
    "domain_name = \"animal\" # @param {type: \"string\"}\n",
    "seed = 42  # @param {type:\"integer\"}\n",
    "\n",
    "config = RunConfig(\n",
    "    app_image_path=Path(app_image_path),\n",
    "    struct_image_path=Path(struct_image_path),\n",
    "    domain_name=domain_name,\n",
    "    seed=seed,\n",
    "    load_latents=False\n",
    ")"
   ]
  },
  {
   "cell_type": "code",
   "execution_count": null,
   "id": "25519b83-125a-4140-a5ef-40bae79e5943",
   "metadata": {
    "pycharm": {
     "name": "#%%\n"
    }
   },
   "outputs": [],
   "source": [
    "#@title Run appearance transfer  { display-mode: \"form\" }\n",
    "images = run(cfg=config)\n",
    "torch.cuda.empty_cache()\n",
    "joined_images = Image.fromarray(np.concatenate(images[::-1], axis=1))\n",
    "display(joined_images)"
   ]
  }
 ],
 "metadata": {
  "kernelspec": {
   "display_name": "Python 3 (ipykernel)",
   "language": "python",
   "name": "python3"
  },
  "language_info": {
   "codemirror_mode": {
    "name": "ipython",
    "version": 3
   },
   "file_extension": ".py",
   "mimetype": "text/x-python",
   "name": "python",
   "nbconvert_exporter": "python",
   "pygments_lexer": "ipython3",
   "version": "3.8.5"
  }
 },
 "nbformat": 4,
 "nbformat_minor": 5
}